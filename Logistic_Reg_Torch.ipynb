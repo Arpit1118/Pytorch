{
  "nbformat": 4,
  "nbformat_minor": 0,
  "metadata": {
    "colab": {
      "provenance": [],
      "authorship_tag": "ABX9TyNuk3NO49WooITSGif1rpzF",
      "include_colab_link": true
    },
    "kernelspec": {
      "name": "python3",
      "display_name": "Python 3"
    },
    "language_info": {
      "name": "python"
    }
  },
  "cells": [
    {
      "cell_type": "markdown",
      "metadata": {
        "id": "view-in-github",
        "colab_type": "text"
      },
      "source": [
        "<a href=\"https://colab.research.google.com/github/Arpit1118/Pytorch/blob/main/Logistic_Reg_Torch.ipynb\" target=\"_parent\"><img src=\"https://colab.research.google.com/assets/colab-badge.svg\" alt=\"Open In Colab\"/></a>"
      ]
    },
    {
      "cell_type": "code",
      "execution_count": 2,
      "metadata": {
        "colab": {
          "base_uri": "https://localhost:8080/"
        },
        "id": "cBkS66f-74Bb",
        "outputId": "2cd250b2-7790-40c7-df5e-00d2ef40dccc"
      },
      "outputs": [
        {
          "output_type": "stream",
          "name": "stdout",
          "text": [
            "epoch: 100, loss = 0.4981\n",
            "epoch: 200, loss = 0.4148\n",
            "epoch: 300, loss = 0.3610\n",
            "epoch: 400, loss = 0.3235\n",
            "epoch: 500, loss = 0.2959\n",
            "epoch: 600, loss = 0.2746\n",
            "epoch: 700, loss = 0.2576\n",
            "epoch: 800, loss = 0.2437\n",
            "epoch: 900, loss = 0.2320\n",
            "epoch: 1000, loss = 0.2221\n",
            "epoch: 1100, loss = 0.2134\n",
            "epoch: 1200, loss = 0.2059\n",
            "epoch: 1300, loss = 0.1992\n",
            "epoch: 1400, loss = 0.1932\n",
            "epoch: 1500, loss = 0.1878\n",
            "epoch: 1600, loss = 0.1830\n",
            "epoch: 1700, loss = 0.1785\n",
            "epoch: 1800, loss = 0.1744\n",
            "epoch: 1900, loss = 0.1706\n",
            "epoch: 2000, loss = 0.1671\n",
            "Accuracy = 0.9211\n"
          ]
        }
      ],
      "source": [
        "import torch\n",
        "import numpy as np\n",
        "import torch.nn as nn\n",
        "from sklearn import datasets\n",
        "from sklearn.preprocessing import StandardScaler\n",
        "from sklearn.model_selection import train_test_split\n",
        "\n",
        "#0) prepare the data\n",
        "bc = datasets.load_breast_cancer()\n",
        "X, y = bc.data, bc.target\n",
        "\n",
        "n_samples, n_features = X.shape[0], X.shape[1]\n",
        "\n",
        "X_train, X_test, y_train, y_test = train_test_split(X, y, test_size = 0.2, random_state = 1234)\n",
        "\n",
        "#scale\n",
        "sc = StandardScaler()\n",
        "X_train = sc.fit_transform(X_train)\n",
        "X_test = sc.transform(X_test)\n",
        "\n",
        "X_train = torch.from_numpy(X_train.astype(np.float32))\n",
        "X_test = torch.from_numpy(X_test.astype(np.float32))\n",
        "y_train = torch.from_numpy(y_train.astype(np.float32))\n",
        "y_test = torch.from_numpy(y_test.astype(np.float32))\n",
        "\n",
        "y_train = y_train.view(y_train.shape[0], 1)\n",
        "y_test = y_test.view(y_test.shape[0], 1)\n",
        "\n",
        "#1) model\n",
        "# f = wx + b, sigmoid activation function\n",
        "class logisticRegression(nn.Module):\n",
        "    def __init__(self, n_input_features):\n",
        "        super(logisticRegression, self).__init__()\n",
        "        self.linear = nn.Linear(n_input_features, 1)\n",
        "\n",
        "    def forward(self, x):\n",
        "        y_pred = torch.sigmoid(self.linear(x))\n",
        "        return y_pred\n",
        "\n",
        "model = logisticRegression(n_features)\n",
        "\n",
        "#2) loss and optimizer\n",
        "learning_rate = 0.001\n",
        "criterion = nn.BCELoss()\n",
        "optimizer = torch.optim.SGD(model.parameters(), lr = learning_rate)\n",
        "\n",
        "#3) training loop\n",
        "num_epochs = 2000\n",
        "\n",
        "for epoch in range(num_epochs):\n",
        "    #forward pass and loss\n",
        "    y_pred = model(X_train)\n",
        "    loss = criterion(y_pred, y_train)\n",
        "\n",
        "    #backward pass\n",
        "    loss.backward()\n",
        "\n",
        "    #updates\n",
        "    optimizer.step()\n",
        "\n",
        "    #zero the gradients\n",
        "    optimizer.zero_grad()\n",
        "\n",
        "    if (epoch + 1) % 100 == 0:\n",
        "        print(f\"epoch: {epoch + 1}, loss = {loss.item():.4f}\")\n",
        "\n",
        "#validation step using test data\n",
        "with torch.no_grad():\n",
        "    y_pred = model(X_test)\n",
        "    y_pred_class = y_pred.round()\n",
        "    acc = y_pred_class.eq(y_test).sum() / y_test.shape[0]\n",
        "    print(f\"Accuracy = {acc:.4f}\")"
      ]
    },
    {
      "cell_type": "code",
      "source": [],
      "metadata": {
        "id": "g5CIWSFu8USf"
      },
      "execution_count": null,
      "outputs": []
    }
  ]
}