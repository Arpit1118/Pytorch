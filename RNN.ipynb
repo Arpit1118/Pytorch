{
  "nbformat": 4,
  "nbformat_minor": 0,
  "metadata": {
    "colab": {
      "provenance": [],
      "gpuType": "V28",
      "authorship_tag": "ABX9TyOYbxq7djuL+NSvQdMZf9IO",
      "include_colab_link": true
    },
    "kernelspec": {
      "name": "python3",
      "display_name": "Python 3"
    },
    "language_info": {
      "name": "python"
    },
    "accelerator": "TPU"
  },
  "cells": [
    {
      "cell_type": "markdown",
      "metadata": {
        "id": "view-in-github",
        "colab_type": "text"
      },
      "source": [
        "<a href=\"https://colab.research.google.com/github/Arpit1118/Pytorch/blob/main/RNN.ipynb\" target=\"_parent\"><img src=\"https://colab.research.google.com/assets/colab-badge.svg\" alt=\"Open In Colab\"/></a>"
      ]
    },
    {
      "cell_type": "code",
      "source": [
        "import torch\n",
        "import torch.nn as nn\n",
        "import torch.optim as optim\n",
        "from torch.utils.data import DataLoader, Dataset\n",
        "import numpy as np"
      ],
      "metadata": {
        "id": "K6BSylZDUBPK"
      },
      "execution_count": 14,
      "outputs": []
    },
    {
      "cell_type": "code",
      "source": [
        "class SyntheticDataset(Dataset):\n",
        "    def __init__(self, num_samples=10000, seq_length=20, vocab_size=50):\n",
        "        self.num_samples = num_samples\n",
        "        self.seq_length = seq_length\n",
        "        self.vocab_size = vocab_size\n",
        "\n",
        "        # Generate random sequences and labels\n",
        "        self.sequences = np.random.randint(1, vocab_size, size=(num_samples, seq_length))\n",
        "        self.labels = np.random.randint(0, 2, size=num_samples)  # Binary labels (0 or 1)\n",
        "\n",
        "    def __len__(self):\n",
        "        return self.num_samples\n",
        "\n",
        "    def __getitem__(self, idx):\n",
        "        return torch.tensor(self.sequences[idx], dtype=torch.long), torch.tensor(self.labels[idx], dtype=torch.long)\n",
        "\n",
        "# Generate a synthetic dataset with 10,000 samples, each with a sequence length of 20\n",
        "dataset = SyntheticDataset(num_samples=10000, seq_length=20, vocab_size=100)\n",
        "dataloader = DataLoader(dataset, batch_size=64, shuffle=True)\n"
      ],
      "metadata": {
        "id": "aZAubwapjYe1"
      },
      "execution_count": 15,
      "outputs": []
    },
    {
      "cell_type": "code",
      "source": [
        "class RNNModel(nn.Module):\n",
        "    def __init__(self, vocab_size, embedding_dim, hidden_size, output_size, num_layers=1):\n",
        "        super(RNNModel, self).__init__()\n",
        "        self.embedding = nn.Embedding(vocab_size, embedding_dim)\n",
        "        self.rnn = nn.RNN(embedding_dim, hidden_size, num_layers, batch_first=True)\n",
        "        self.fc = nn.Linear(hidden_size, output_size)\n",
        "\n",
        "    def forward(self, x):\n",
        "        # x shape: (batch_size, seq_length)\n",
        "        embedded = self.embedding(x)  # Shape: (batch_size, seq_length, embedding_dim)\n",
        "        rnn_out, _ = self.rnn(embedded)  # RNN output shape: (batch_size, seq_length, hidden_size)\n",
        "        out = rnn_out[:, -1, :]  # Get the output of the last time step (batch_size, hidden_size)\n",
        "        out = self.fc(out)  # Shape: (batch_size, output_size)\n",
        "        return out\n"
      ],
      "metadata": {
        "id": "0EmL46OrjoWA"
      },
      "execution_count": 16,
      "outputs": []
    },
    {
      "cell_type": "code",
      "source": [
        "# Parameters\n",
        "vocab_size = 100  # Vocabulary size (number of unique words)\n",
        "embedding_dim = 32  # Dimension of the word embeddings\n",
        "hidden_size = 64  # Hidden size of the RNN\n",
        "output_size = 2  # Binary classification (0 or 1)\n",
        "num_epochs = 10\n",
        "learning_rate = 0.001\n",
        "\n",
        "# Instantiate the model, loss function, and optimizer\n",
        "model = RNNModel(vocab_size, embedding_dim, hidden_size, output_size)\n",
        "criterion = nn.CrossEntropyLoss()\n",
        "optimizer = optim.Adam(model.parameters(), lr=learning_rate)\n",
        "\n",
        "# Training loop\n",
        "for epoch in range(num_epochs):\n",
        "    model.train()\n",
        "    total_loss = 0\n",
        "    correct_predictions = 0\n",
        "    total_samples = 0\n",
        "\n",
        "    for seq, label in dataloader:\n",
        "        # Forward pass\n",
        "        optimizer.zero_grad()\n",
        "        outputs = model(seq)\n",
        "\n",
        "        # Compute loss and backpropagate\n",
        "        loss = criterion(outputs, label)\n",
        "        loss.backward()\n",
        "        optimizer.step()\n",
        "\n",
        "        total_loss += loss.item()\n",
        "\n",
        "        # Calculate accuracy\n",
        "        _, predicted = torch.max(outputs, 1)\n",
        "        correct_predictions += (predicted == label).sum().item()\n",
        "        total_samples += label.size(0)\n",
        "\n",
        "    avg_loss = total_loss / len(dataloader)\n",
        "    accuracy = correct_predictions / total_samples * 100\n",
        "    print(f'Epoch [{epoch+1}/{num_epochs}], Loss: {avg_loss:.4f}, Accuracy: {accuracy:.2f}%')\n"
      ],
      "metadata": {
        "colab": {
          "base_uri": "https://localhost:8080/"
        },
        "id": "iVFZaBIgjq5-",
        "outputId": "b03fd509-5da2-4c0f-f032-b88d7ceb4387"
      },
      "execution_count": 17,
      "outputs": [
        {
          "output_type": "stream",
          "name": "stdout",
          "text": [
            "Epoch [1/10], Loss: 0.6991, Accuracy: 50.36%\n",
            "Epoch [2/10], Loss: 0.6934, Accuracy: 52.33%\n",
            "Epoch [3/10], Loss: 0.6913, Accuracy: 52.74%\n",
            "Epoch [4/10], Loss: 0.6897, Accuracy: 53.46%\n",
            "Epoch [5/10], Loss: 0.6877, Accuracy: 54.44%\n",
            "Epoch [6/10], Loss: 0.6847, Accuracy: 55.38%\n",
            "Epoch [7/10], Loss: 0.6829, Accuracy: 55.64%\n",
            "Epoch [8/10], Loss: 0.6798, Accuracy: 57.06%\n",
            "Epoch [9/10], Loss: 0.6752, Accuracy: 57.60%\n",
            "Epoch [10/10], Loss: 0.6692, Accuracy: 59.02%\n"
          ]
        }
      ]
    },
    {
      "cell_type": "code",
      "source": [
        "# Testing the model\n",
        "model.eval()\n",
        "test_sequence = torch.tensor([[1, 2, 3, 4, 5, 6, 7, 8, 9, 10, 11, 12, 13, 14, 15, 16, 17, 18, 19, 20]], dtype=torch.long)\n",
        "with torch.no_grad():\n",
        "    output = model(test_sequence)\n",
        "    predicted_label = torch.argmax(output, dim=1)\n",
        "    print(f'Predicted label: {predicted_label.item()}')\n"
      ],
      "metadata": {
        "colab": {
          "base_uri": "https://localhost:8080/"
        },
        "id": "zFQo_HSXjuJD",
        "outputId": "7368c445-74b8-4560-f74e-2384aea23cf0"
      },
      "execution_count": 18,
      "outputs": [
        {
          "output_type": "stream",
          "name": "stdout",
          "text": [
            "Predicted label: 0\n"
          ]
        }
      ]
    },
    {
      "cell_type": "code",
      "source": [],
      "metadata": {
        "id": "h7IFr_6mkoEe"
      },
      "execution_count": null,
      "outputs": []
    }
  ]
}