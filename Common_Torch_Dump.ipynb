{
  "nbformat": 4,
  "nbformat_minor": 0,
  "metadata": {
    "colab": {
      "provenance": [],
      "authorship_tag": "ABX9TyOBhFMlxAZhM6yb4Dl1qrLT",
      "include_colab_link": true
    },
    "kernelspec": {
      "name": "python3",
      "display_name": "Python 3"
    },
    "language_info": {
      "name": "python"
    }
  },
  "cells": [
    {
      "cell_type": "markdown",
      "metadata": {
        "id": "view-in-github",
        "colab_type": "text"
      },
      "source": [
        "<a href=\"https://colab.research.google.com/github/Arpit1118/Pytorch/blob/main/Common_Torch_Dump.ipynb\" target=\"_parent\"><img src=\"https://colab.research.google.com/assets/colab-badge.svg\" alt=\"Open In Colab\"/></a>"
      ]
    },
    {
      "cell_type": "code",
      "source": [
        "#Autograd\n",
        "import torch\n",
        "x= torch.rand(3,requires_grad=True)\n",
        "print(x)\n",
        "y = x+2\n",
        "print(y)\n",
        "z=y*y*2\n",
        "z = z.mean() #Has to be a scaler value\n",
        "print(z)\n",
        "\n",
        "z.backward()  #dz/dx\n",
        "print(x.grad)\n",
        "#Chain rule example\n",
        "\n",
        "\n",
        "#detach(), with torch.no_grad() functions remove the requires_grad, basically make it false."
      ],
      "metadata": {
        "colab": {
          "base_uri": "https://localhost:8080/"
        },
        "id": "or_vmv8Dj-Cc",
        "outputId": "1d01f571-9a0a-459b-9e66-147f85b3886e"
      },
      "execution_count": 1,
      "outputs": [
        {
          "output_type": "stream",
          "name": "stdout",
          "text": [
            "tensor([0.7148, 0.5162, 0.5674], requires_grad=True)\n",
            "tensor([2.7148, 2.5162, 2.5674], grad_fn=<AddBackward0>)\n",
            "tensor(13.5287, grad_fn=<MeanBackward0>)\n",
            "tensor([3.6197, 3.3549, 3.4233])\n"
          ]
        }
      ]
    },
    {
      "cell_type": "code",
      "source": [
        "# Forward and Backward Pass\n",
        "x = torch.tensor(1.0)\n",
        "y = torch.tensor(2.0)\n",
        "\n",
        "w= torch.tensor(1.0, requires_grad = True)\n",
        "\n",
        "#Forward pass\n",
        "y_cap = w*x\n",
        "loss = (y_cap-y)**2\n",
        "print(loss)\n",
        "\n",
        "#Backward pass\n",
        "loss.backward()\n",
        "print(w.grad)\n",
        "\n",
        "#update weights\n",
        "#next forward and backward pass"
      ],
      "metadata": {
        "colab": {
          "base_uri": "https://localhost:8080/"
        },
        "id": "cjzvgqbDkzp_",
        "outputId": "07e382a3-b8e9-4224-952a-56d29e3a5e25"
      },
      "execution_count": 2,
      "outputs": [
        {
          "output_type": "stream",
          "name": "stdout",
          "text": [
            "tensor(1., grad_fn=<PowBackward0>)\n",
            "tensor(-2.)\n"
          ]
        }
      ]
    },
    {
      "cell_type": "code",
      "source": [
        "#Autograd\n",
        "import numpy as np\n",
        "X = np.array([1,2,3,4], dtype=np.float32)\n",
        "Y = np.array([2,4,6,8], dtype=np.float32)\n",
        "\n",
        "w = 0.0\n",
        "#model prediction\n",
        "def forward(x):\n",
        "  return w*X\n",
        "#loss = MSE\n",
        "def loss(y,y_predicted):\n",
        "  return ((y_predicted-y)**2).mean()\n",
        "\n",
        "#gradient\n",
        "#MSE = 1/N * (w*x - y)**2\n",
        "#dJ/dw = 1/N * 2x(w*x - y)\n",
        "def gradient(x,y,y_predicted):\n",
        "  return np.dot(2*x, y_predicted-y).mean()\n",
        "\n",
        "print(f'Prediction before training: f(5) = {forward(5)[0]:.3f}')\n",
        "#Training\n",
        "learning_rate = 0.01\n",
        "n_iters = 20\n",
        "for epoch in range(n_iters):\n",
        "  #prediction = forward pass\n",
        "  y_pred = forward(X)\n",
        "  #loss\n",
        "  l = loss(Y,y_pred)\n",
        "  #gradients\n",
        "  dw = gradient(X,Y,y_pred)\n",
        "  #update weights\n",
        "  w -= learning_rate*dw\n",
        "  if epoch % 1 == 0:\n",
        "    print(f'epoch {epoch+1}: w = {w:.3f}, loss = {l:.8f}')\n",
        "\n",
        "print(f'Prediction after training: f(5) = {forward(5)[0]:.3f}')"
      ],
      "metadata": {
        "colab": {
          "base_uri": "https://localhost:8080/"
        },
        "id": "jAnEMGZUp4bE",
        "outputId": "de30ec33-8752-4230-f895-9b51e517500c"
      },
      "execution_count": 3,
      "outputs": [
        {
          "output_type": "stream",
          "name": "stdout",
          "text": [
            "Prediction before training: f(5) = 0.000\n",
            "epoch 1: w = 1.200, loss = 30.00000000\n",
            "epoch 2: w = 1.680, loss = 4.80000067\n",
            "epoch 3: w = 1.872, loss = 0.76800019\n",
            "epoch 4: w = 1.949, loss = 0.12288000\n",
            "epoch 5: w = 1.980, loss = 0.01966083\n",
            "epoch 6: w = 1.992, loss = 0.00314574\n",
            "epoch 7: w = 1.997, loss = 0.00050332\n",
            "epoch 8: w = 1.999, loss = 0.00008053\n",
            "epoch 9: w = 1.999, loss = 0.00001288\n",
            "epoch 10: w = 2.000, loss = 0.00000206\n",
            "epoch 11: w = 2.000, loss = 0.00000033\n",
            "epoch 12: w = 2.000, loss = 0.00000005\n",
            "epoch 13: w = 2.000, loss = 0.00000001\n",
            "epoch 14: w = 2.000, loss = 0.00000000\n",
            "epoch 15: w = 2.000, loss = 0.00000000\n",
            "epoch 16: w = 2.000, loss = 0.00000000\n",
            "epoch 17: w = 2.000, loss = 0.00000000\n",
            "epoch 18: w = 2.000, loss = 0.00000000\n",
            "epoch 19: w = 2.000, loss = 0.00000000\n",
            "epoch 20: w = 2.000, loss = 0.00000000\n",
            "Prediction after training: f(5) = 2.000\n"
          ]
        }
      ]
    },
    {
      "cell_type": "code",
      "source": [
        "#Autograd\n",
        "import torch\n",
        "X = torch.tensor([1,2,3,4], dtype=torch.float32)\n",
        "Y = torch.tensor([2,4,6,8], dtype=torch.float32)\n",
        "\n",
        "w = torch.tensor(0.0, dtype = torch.float32, requires_grad=True)\n",
        "#model prediction\n",
        "def forward(x):\n",
        "  return w*X\n",
        "#loss = MSE\n",
        "def loss(y,y_predicted):\n",
        "  return ((y_predicted-y)**2).mean()\n",
        "\n",
        "print(f'Prediction before training: f(5) = {forward(5)[0]:.3f}')\n",
        "#Training\n",
        "learning_rate = 0.01\n",
        "n_iters = 20\n",
        "for epoch in range(n_iters):\n",
        "  #prediction = forward pass\n",
        "  y_pred = forward(X)\n",
        "  #loss\n",
        "  l = loss(Y,y_pred)\n",
        "  #gradients=backward pass\n",
        "  l.backward() #dl/dw\n",
        "  #update weights\n",
        "  with torch.no_grad():\n",
        "    w -= learning_rate*w.grad\n",
        "  #zero gradients\n",
        "  w.grad.zero_()\n",
        "  if epoch % 1 == 0:\n",
        "    print(f'epoch {epoch+1}: w = {w:.3f}, loss = {l:.8f}')\n",
        "\n",
        "print(f'Prediction after training: f(5) = {forward(5)[0]:.3f}')"
      ],
      "metadata": {
        "colab": {
          "base_uri": "https://localhost:8080/"
        },
        "id": "NDB3RR3MqadO",
        "outputId": "ed2ff00c-4633-4f3b-e6c4-1a699799b156"
      },
      "execution_count": 4,
      "outputs": [
        {
          "output_type": "stream",
          "name": "stdout",
          "text": [
            "Prediction before training: f(5) = 0.000\n",
            "epoch 1: w = 0.300, loss = 30.00000000\n",
            "epoch 2: w = 0.555, loss = 21.67499924\n",
            "epoch 3: w = 0.772, loss = 15.66018772\n",
            "epoch 4: w = 0.956, loss = 11.31448650\n",
            "epoch 5: w = 1.113, loss = 8.17471695\n",
            "epoch 6: w = 1.246, loss = 5.90623236\n",
            "epoch 7: w = 1.359, loss = 4.26725292\n",
            "epoch 8: w = 1.455, loss = 3.08308983\n",
            "epoch 9: w = 1.537, loss = 2.22753215\n",
            "epoch 10: w = 1.606, loss = 1.60939169\n",
            "epoch 11: w = 1.665, loss = 1.16278565\n",
            "epoch 12: w = 1.716, loss = 0.84011245\n",
            "epoch 13: w = 1.758, loss = 0.60698116\n",
            "epoch 14: w = 1.794, loss = 0.43854395\n",
            "epoch 15: w = 1.825, loss = 0.31684780\n",
            "epoch 16: w = 1.851, loss = 0.22892261\n",
            "epoch 17: w = 1.874, loss = 0.16539653\n",
            "epoch 18: w = 1.893, loss = 0.11949898\n",
            "epoch 19: w = 1.909, loss = 0.08633806\n",
            "epoch 20: w = 1.922, loss = 0.06237914\n",
            "Prediction after training: f(5) = 1.922\n"
          ]
        }
      ]
    },
    {
      "cell_type": "code",
      "source": [
        "#1)Design model (inputs, outputs, forward pass)\n",
        "#2)Construct loss and optimizer\n",
        "#3)Training loop\n",
        "# -Forward pass: compute prediction\n",
        "# -backward pass: gradients\n",
        "# -update weights\n",
        "#Check other notebooks for automatic gradients and loss calculations. The above ones are for manual calculation."
      ],
      "metadata": {
        "id": "r7V7MBLtwtXn"
      },
      "execution_count": 5,
      "outputs": []
    },
    {
      "cell_type": "code",
      "source": [
        "import torch\n",
        "import torch.nn as nn\n",
        "import numpy as np\n",
        "from sklearn import datasets\n",
        "import matplotlib.pyplot as plt\n",
        "%matplotlib inline\n",
        "\n",
        "#0) Data Preparation\n",
        "X_numpy, y_numpy = datasets.make_regression(n_samples = 100, n_features = 1, noise = 20, random_state=1)\n",
        "X = torch.from_numpy(X_numpy.astype(np.float32))\n",
        "y = torch.from_numpy(y_numpy.astype(np.float32))\n",
        "y = y.view(y.shape[0],1)\n",
        "\n",
        "n_samples, n_features = X.shape\n",
        "\n",
        "#1)model\n",
        "input_size = n_features\n",
        "output_size = 1\n",
        "model = nn.Linear(input_size, output_size)\n",
        "\n",
        "#2)loss and optimizer\n",
        "\n",
        "criterion = nn.MSELoss()\n",
        "learning_rate = 0.01\n",
        "optimizer = torch.optim.SGD(model.parameters(), lr = learning_rate)\n",
        "\n",
        "#3)Training loop\n",
        "num_epochs = 100\n",
        "for epoch in range(num_epochs):\n",
        "  #forward pass and loss\n",
        "  y_predicted = model(X)\n",
        "  loss = criterion(y_predicted, y)\n",
        "\n",
        "  #backward pass\n",
        "  loss.backward()\n",
        "\n",
        "  #update\n",
        "  optimizer.step()\n",
        "  optimizer.zero_grad()\n",
        "\n",
        "  if (epoch+1) % 10 == 0:\n",
        "    print(f'epoch: {epoch+1}, loss = {loss.item(): .4f}')"
      ],
      "metadata": {
        "colab": {
          "base_uri": "https://localhost:8080/"
        },
        "id": "MichYhu61oP9",
        "outputId": "179c54d2-ac23-4248-e7dc-34d28309e1d2"
      },
      "execution_count": 6,
      "outputs": [
        {
          "output_type": "stream",
          "name": "stdout",
          "text": [
            "epoch: 10, loss =  4298.4771\n",
            "epoch: 20, loss =  3208.2207\n",
            "epoch: 30, loss =  2419.5779\n",
            "epoch: 40, loss =  1848.4895\n",
            "epoch: 50, loss =  1434.5238\n",
            "epoch: 60, loss =  1134.1727\n",
            "epoch: 70, loss =  916.0664\n",
            "epoch: 80, loss =  757.5581\n",
            "epoch: 90, loss =  642.2786\n",
            "epoch: 100, loss =  558.3821\n"
          ]
        }
      ]
    },
    {
      "cell_type": "code",
      "source": [
        "#Batch Training using DataLoader\n",
        "#dataloader = DataLoader(dataset = my_dataset, batchsize = 5, shuffle = True, num_workers = 2)\n",
        "#dataiter = iter(dataloader)\n",
        "#data = dataiter.next()\n",
        "#features, labels = data\n",
        "#print(features, labels)"
      ],
      "metadata": {
        "id": "niuPr13O9Ote"
      },
      "execution_count": 6,
      "outputs": []
    }
  ]
}