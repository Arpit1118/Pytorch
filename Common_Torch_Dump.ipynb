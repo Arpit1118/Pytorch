{
  "nbformat": 4,
  "nbformat_minor": 0,
  "metadata": {
    "colab": {
      "provenance": [],
      "authorship_tag": "ABX9TyNQdMXVsMlrHX4AknVvuIxQ",
      "include_colab_link": true
    },
    "kernelspec": {
      "name": "python3",
      "display_name": "Python 3"
    },
    "language_info": {
      "name": "python"
    }
  },
  "cells": [
    {
      "cell_type": "markdown",
      "metadata": {
        "id": "view-in-github",
        "colab_type": "text"
      },
      "source": [
        "<a href=\"https://colab.research.google.com/github/Arpit1118/Pytorch/blob/main/Common_Torch_Dump.ipynb\" target=\"_parent\"><img src=\"https://colab.research.google.com/assets/colab-badge.svg\" alt=\"Open In Colab\"/></a>"
      ]
    },
    {
      "cell_type": "code",
      "source": [
        "#Autograd\n",
        "import torch\n",
        "x= torch.rand(3,requires_grad=True)\n",
        "print(x)\n",
        "y = x+2\n",
        "print(y)\n",
        "z=y*y*2\n",
        "z = z.mean() #Has to be a scaler value\n",
        "print(z)\n",
        "\n",
        "z.backward()  #dz/dx\n",
        "print(x.grad)\n",
        "#Chain rule example\n",
        "\n",
        "\n",
        "#detach(), with torch.no_grad() functions remove the requires_grad, basically make it false."
      ],
      "metadata": {
        "colab": {
          "base_uri": "https://localhost:8080/"
        },
        "id": "or_vmv8Dj-Cc",
        "outputId": "7e6afb47-512b-451b-9e61-6fcf98a3da0e"
      },
      "execution_count": 1,
      "outputs": [
        {
          "output_type": "stream",
          "name": "stdout",
          "text": [
            "tensor([0.2022, 0.3378, 0.9203], requires_grad=True)\n",
            "tensor([2.2022, 2.3378, 2.9203], grad_fn=<AddBackward0>)\n",
            "tensor(12.5622, grad_fn=<MeanBackward0>)\n",
            "tensor([2.9363, 3.1171, 3.8938])\n"
          ]
        }
      ]
    },
    {
      "cell_type": "code",
      "source": [
        "# Forward and Backward Pass\n",
        "x = torch.tensor(1.0)\n",
        "y = torch.tensor(2.0)\n",
        "\n",
        "w= torch.tensor(1.0, requires_grad = True)\n",
        "\n",
        "#Forward pass\n",
        "y_cap = w*x\n",
        "loss = (y_cap-y)**2\n",
        "print(loss)\n",
        "\n",
        "#Backward pass\n",
        "loss.backward()\n",
        "print(w.grad)\n",
        "\n",
        "#update weights\n",
        "#next forward and backward pass"
      ],
      "metadata": {
        "colab": {
          "base_uri": "https://localhost:8080/"
        },
        "id": "cjzvgqbDkzp_",
        "outputId": "c6508be0-4a5f-428e-8678-e1c9122545e5"
      },
      "execution_count": 2,
      "outputs": [
        {
          "output_type": "stream",
          "name": "stdout",
          "text": [
            "tensor(1., grad_fn=<PowBackward0>)\n",
            "tensor(-2.)\n"
          ]
        }
      ]
    },
    {
      "cell_type": "code",
      "source": [
        "#Autograd\n",
        "import numpy as np\n",
        "X = np.array([1,2,3,4], dtype=np.float32)\n",
        "Y = np.array([2,4,6,8], dtype=np.float32)\n",
        "\n",
        "w = 0.0\n",
        "#model prediction\n",
        "def forward(x):\n",
        "  return w*X\n",
        "#loss = MSE\n",
        "def loss(y,y_predicted):\n",
        "  return ((y_predicted-y)**2).mean()\n",
        "\n",
        "#gradient\n",
        "#MSE = 1/N * (w*x - y)**2\n",
        "#dJ/dw = 1/N * 2x(w*x - y)\n",
        "def gradient(x,y,y_predicted):\n",
        "  return np.dot(2*x, y_predicted-y).mean()\n",
        "\n",
        "print(f'Prediction before training: f(5) = {forward(5)[0]:.3f}')\n",
        "#Training\n",
        "learning_rate = 0.01\n",
        "n_iters = 10\n",
        "for epoch in range(n_iters):\n",
        "  #prediction = forward pass\n",
        "  y_pred = forward(X)\n",
        "  #loss\n",
        "  l = loss(Y,y_pred)\n",
        "  #gradients\n",
        "  dw = gradient(X,Y,y_pred)\n",
        "  #update weights\n",
        "  w -= learning_rate*dw\n",
        "  if epoch % 1 == 0:\n",
        "    print(f'epoch {epoch+1}: w = {w:.3f}, loss = {l:.8f}')\n",
        "\n",
        "print(f'Prediction after training: f(5) = {forward(5)[0]:.3f}')"
      ],
      "metadata": {
        "colab": {
          "base_uri": "https://localhost:8080/"
        },
        "id": "jAnEMGZUp4bE",
        "outputId": "09d9eb15-b19a-4536-f6f1-2137de2e8f66"
      },
      "execution_count": 3,
      "outputs": [
        {
          "output_type": "stream",
          "name": "stdout",
          "text": [
            "Prediction before training: f(5) = 0.000\n",
            "epoch 1: w = 1.200, loss = 30.00000000\n",
            "epoch 2: w = 1.680, loss = 4.80000067\n",
            "epoch 3: w = 1.872, loss = 0.76800019\n",
            "epoch 4: w = 1.949, loss = 0.12288000\n",
            "epoch 5: w = 1.980, loss = 0.01966083\n",
            "epoch 6: w = 1.992, loss = 0.00314574\n",
            "epoch 7: w = 1.997, loss = 0.00050332\n",
            "epoch 8: w = 1.999, loss = 0.00008053\n",
            "epoch 9: w = 1.999, loss = 0.00001288\n",
            "epoch 10: w = 2.000, loss = 0.00000206\n",
            "Prediction after training: f(5) = 2.000\n"
          ]
        }
      ]
    },
    {
      "cell_type": "code",
      "source": [],
      "metadata": {
        "id": "NDB3RR3MqadO"
      },
      "execution_count": 3,
      "outputs": []
    }
  ]
}