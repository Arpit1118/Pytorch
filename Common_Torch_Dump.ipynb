{
  "nbformat": 4,
  "nbformat_minor": 0,
  "metadata": {
    "colab": {
      "provenance": [],
      "authorship_tag": "ABX9TyO3VTLubeh08ymYSHnoYeK8",
      "include_colab_link": true
    },
    "kernelspec": {
      "name": "python3",
      "display_name": "Python 3"
    },
    "language_info": {
      "name": "python"
    }
  },
  "cells": [
    {
      "cell_type": "markdown",
      "metadata": {
        "id": "view-in-github",
        "colab_type": "text"
      },
      "source": [
        "<a href=\"https://colab.research.google.com/github/Arpit1118/Pytorch/blob/main/Common_Torch_Dump.ipynb\" target=\"_parent\"><img src=\"https://colab.research.google.com/assets/colab-badge.svg\" alt=\"Open In Colab\"/></a>"
      ]
    },
    {
      "cell_type": "code",
      "source": [
        "#Autograd\n",
        "import torch\n",
        "x= torch.rand(3,requires_grad=True)\n",
        "print(x)\n",
        "y = x+2\n",
        "print(y)\n",
        "z=y*y*2\n",
        "z = z.mean() #Has to be a scaler value\n",
        "print(z)\n",
        "\n",
        "z.backward()  #dz/dx\n",
        "print(x.grad)\n",
        "#Chain rule example\n",
        "\n",
        "\n",
        "#detach(), with torch.no_grad() functions remove the requires_grad, basically make it false."
      ],
      "metadata": {
        "colab": {
          "base_uri": "https://localhost:8080/"
        },
        "id": "or_vmv8Dj-Cc",
        "outputId": "8092de5a-9f9c-4c6c-efc9-03125b0980f3"
      },
      "execution_count": 1,
      "outputs": [
        {
          "output_type": "stream",
          "name": "stdout",
          "text": [
            "tensor([0.7579, 0.3502, 0.2197], requires_grad=True)\n",
            "tensor([2.7579, 2.3502, 2.2197], grad_fn=<AddBackward0>)\n",
            "tensor(12.0379, grad_fn=<MeanBackward0>)\n",
            "tensor([3.6773, 3.1336, 2.9596])\n"
          ]
        }
      ]
    },
    {
      "cell_type": "code",
      "source": [
        "# Forward and Backward Pass\n",
        "x = torch.tensor(1.0)\n",
        "y = torch.tensor(2.0)\n",
        "\n",
        "w= torch.tensor(1.0, requires_grad = True)\n",
        "\n",
        "#Forward pass\n",
        "y_cap = w*x\n",
        "loss = (y_cap-y)**2\n",
        "print(loss)\n",
        "\n",
        "#Backward pass\n",
        "loss.backward()\n",
        "print(w.grad)\n",
        "\n",
        "#update weights\n",
        "#next forward and backward pass"
      ],
      "metadata": {
        "colab": {
          "base_uri": "https://localhost:8080/"
        },
        "id": "cjzvgqbDkzp_",
        "outputId": "12f2a1f8-bdd6-45c0-c79f-ce05a284437d"
      },
      "execution_count": 2,
      "outputs": [
        {
          "output_type": "stream",
          "name": "stdout",
          "text": [
            "tensor(1., grad_fn=<PowBackward0>)\n",
            "tensor(-2.)\n"
          ]
        }
      ]
    },
    {
      "cell_type": "code",
      "source": [
        "#Autograd\n",
        "import numpy as np\n",
        "X = np.array([1,2,3,4], dtype=np.float32)\n",
        "Y = np.array([2,4,6,8], dtype=np.float32)\n",
        "\n",
        "w = 0.0\n",
        "#model prediction\n",
        "def forward(x):\n",
        "  return w*X\n",
        "#loss = MSE\n",
        "def loss(y,y_predicted):\n",
        "  return ((y_predicted-y)**2).mean()\n",
        "\n",
        "#gradient\n",
        "#MSE = 1/N * (w*x - y)**2\n",
        "#dJ/dw = 1/N * 2x(w*x - y)\n",
        "def gradient(x,y,y_predicted):\n",
        "  return np.dot(2*x, y_predicted-y).mean()\n",
        "\n",
        "print(f'Prediction before training: f(5) = {forward(5)[0]:.3f}')\n",
        "#Training\n",
        "learning_rate = 0.01\n",
        "n_iters = 20\n",
        "for epoch in range(n_iters):\n",
        "  #prediction = forward pass\n",
        "  y_pred = forward(X)\n",
        "  #loss\n",
        "  l = loss(Y,y_pred)\n",
        "  #gradients\n",
        "  dw = gradient(X,Y,y_pred)\n",
        "  #update weights\n",
        "  w -= learning_rate*dw\n",
        "  if epoch % 1 == 0:\n",
        "    print(f'epoch {epoch+1}: w = {w:.3f}, loss = {l:.8f}')\n",
        "\n",
        "print(f'Prediction after training: f(5) = {forward(5)[0]:.3f}')"
      ],
      "metadata": {
        "colab": {
          "base_uri": "https://localhost:8080/"
        },
        "id": "jAnEMGZUp4bE",
        "outputId": "f54c05cd-0541-4a0e-c4cd-952fd69fcaa9"
      },
      "execution_count": 3,
      "outputs": [
        {
          "output_type": "stream",
          "name": "stdout",
          "text": [
            "Prediction before training: f(5) = 0.000\n",
            "epoch 1: w = 1.200, loss = 30.00000000\n",
            "epoch 2: w = 1.680, loss = 4.80000067\n",
            "epoch 3: w = 1.872, loss = 0.76800019\n",
            "epoch 4: w = 1.949, loss = 0.12288000\n",
            "epoch 5: w = 1.980, loss = 0.01966083\n",
            "epoch 6: w = 1.992, loss = 0.00314574\n",
            "epoch 7: w = 1.997, loss = 0.00050332\n",
            "epoch 8: w = 1.999, loss = 0.00008053\n",
            "epoch 9: w = 1.999, loss = 0.00001288\n",
            "epoch 10: w = 2.000, loss = 0.00000206\n",
            "epoch 11: w = 2.000, loss = 0.00000033\n",
            "epoch 12: w = 2.000, loss = 0.00000005\n",
            "epoch 13: w = 2.000, loss = 0.00000001\n",
            "epoch 14: w = 2.000, loss = 0.00000000\n",
            "epoch 15: w = 2.000, loss = 0.00000000\n",
            "epoch 16: w = 2.000, loss = 0.00000000\n",
            "epoch 17: w = 2.000, loss = 0.00000000\n",
            "epoch 18: w = 2.000, loss = 0.00000000\n",
            "epoch 19: w = 2.000, loss = 0.00000000\n",
            "epoch 20: w = 2.000, loss = 0.00000000\n",
            "Prediction after training: f(5) = 2.000\n"
          ]
        }
      ]
    },
    {
      "cell_type": "code",
      "source": [
        "#Autograd\n",
        "import torch\n",
        "X = torch.tensor([1,2,3,4], dtype=torch.float32)\n",
        "Y = torch.tensor([2,4,6,8], dtype=torch.float32)\n",
        "\n",
        "w = torch.tensor(0.0, dtype = torch.float32, requires_grad=True)\n",
        "#model prediction\n",
        "def forward(x):\n",
        "  return w*X\n",
        "#loss = MSE\n",
        "def loss(y,y_predicted):\n",
        "  return ((y_predicted-y)**2).mean()\n",
        "\n",
        "print(f'Prediction before training: f(5) = {forward(5)[0]:.3f}')\n",
        "#Training\n",
        "learning_rate = 0.01\n",
        "n_iters = 20\n",
        "for epoch in range(n_iters):\n",
        "  #prediction = forward pass\n",
        "  y_pred = forward(X)\n",
        "  #loss\n",
        "  l = loss(Y,y_pred)\n",
        "  #gradients=backward pass\n",
        "  l.backward() #dl/dw\n",
        "  #update weights\n",
        "  with torch.no_grad():\n",
        "    w -= learning_rate*w.grad\n",
        "  #zero gradients\n",
        "  w.grad.zero_()\n",
        "  if epoch % 1 == 0:\n",
        "    print(f'epoch {epoch+1}: w = {w:.3f}, loss = {l:.8f}')\n",
        "\n",
        "print(f'Prediction after training: f(5) = {forward(5)[0]:.3f}')"
      ],
      "metadata": {
        "colab": {
          "base_uri": "https://localhost:8080/"
        },
        "id": "NDB3RR3MqadO",
        "outputId": "11a9622c-fdf3-4139-900a-cb7e23280193"
      },
      "execution_count": 4,
      "outputs": [
        {
          "output_type": "stream",
          "name": "stdout",
          "text": [
            "Prediction before training: f(5) = 0.000\n",
            "epoch 1: w = 0.300, loss = 30.00000000\n",
            "epoch 2: w = 0.555, loss = 21.67499924\n",
            "epoch 3: w = 0.772, loss = 15.66018772\n",
            "epoch 4: w = 0.956, loss = 11.31448650\n",
            "epoch 5: w = 1.113, loss = 8.17471695\n",
            "epoch 6: w = 1.246, loss = 5.90623236\n",
            "epoch 7: w = 1.359, loss = 4.26725292\n",
            "epoch 8: w = 1.455, loss = 3.08308983\n",
            "epoch 9: w = 1.537, loss = 2.22753215\n",
            "epoch 10: w = 1.606, loss = 1.60939169\n",
            "epoch 11: w = 1.665, loss = 1.16278565\n",
            "epoch 12: w = 1.716, loss = 0.84011245\n",
            "epoch 13: w = 1.758, loss = 0.60698116\n",
            "epoch 14: w = 1.794, loss = 0.43854395\n",
            "epoch 15: w = 1.825, loss = 0.31684780\n",
            "epoch 16: w = 1.851, loss = 0.22892261\n",
            "epoch 17: w = 1.874, loss = 0.16539653\n",
            "epoch 18: w = 1.893, loss = 0.11949898\n",
            "epoch 19: w = 1.909, loss = 0.08633806\n",
            "epoch 20: w = 1.922, loss = 0.06237914\n",
            "Prediction after training: f(5) = 1.922\n"
          ]
        }
      ]
    },
    {
      "cell_type": "code",
      "source": [
        "#1)Design model (inputs, outputs, forward pass)\n",
        "#2)Construct loss and optimizer\n",
        "#3)Training loop\n",
        "# -Forward pass: compute prediction\n",
        "# -backward pass: gradients\n",
        "# -update weights\n",
        "#Check other notebooks for automatic gradients and loss calculations. The above ones are for manual calculation."
      ],
      "metadata": {
        "id": "r7V7MBLtwtXn"
      },
      "execution_count": 5,
      "outputs": []
    },
    {
      "cell_type": "code",
      "source": [
        "import torch\n",
        "import torch.nn as nn\n",
        "import numpy as np\n",
        "from sklearn import datasets\n",
        "import matplotlib.pyplot as plt\n",
        "%matplotlib inline\n",
        "\n",
        "#0) Data Preparation\n",
        "X_numpy, y_numpy = datasets.make_regression(n_samples = 100, n_features = 1, noise = 20, random_state=1)\n",
        "X = torch.from_numpy(X_numpy.astype(np.float32))\n",
        "y = torch.from_numpy(y_numpy.astype(np.float32))\n",
        "y = y.view(y.shape[0],1)\n",
        "\n",
        "n_samples, n_features = X.shape\n",
        "\n",
        "#1)model\n",
        "input_size = n_features\n",
        "output_size = 1\n",
        "model = nn.Linear(input_size, output_size)\n",
        "\n",
        "#2)loss and optimizer\n",
        "\n",
        "criterion = nn.MSELoss()\n",
        "learning_rate = 0.01\n",
        "optimizer = torch.optim.SGD(model.parameters(), lr = learning_rate)\n",
        "\n",
        "#3)Training loop\n",
        "num_epochs = 100\n",
        "for epoch in range(num_epochs):\n",
        "  #forward pass and loss\n",
        "  y_predicted = model(X)\n",
        "  loss = criterion(y_predicted, y)\n",
        "\n",
        "  #backward pass\n",
        "  loss.backward()\n",
        "\n",
        "  #update\n",
        "  optimizer.step()\n",
        "  optimizer.zero_grad()\n",
        "\n",
        "  if (epoch+1) % 10 == 0:\n",
        "    print(f'epoch: {epoch+1}, loss = {loss.item(): .4f}')"
      ],
      "metadata": {
        "colab": {
          "base_uri": "https://localhost:8080/"
        },
        "id": "MichYhu61oP9",
        "outputId": "1a1287e8-1518-4be4-8a18-c15d317c43d4"
      },
      "execution_count": 6,
      "outputs": [
        {
          "output_type": "stream",
          "name": "stdout",
          "text": [
            "epoch: 10, loss =  4475.7095\n",
            "epoch: 20, loss =  3335.3137\n",
            "epoch: 30, loss =  2510.8665\n",
            "epoch: 40, loss =  1914.1617\n",
            "epoch: 50, loss =  1481.8370\n",
            "epoch: 60, loss =  1168.3049\n",
            "epoch: 70, loss =  940.7214\n",
            "epoch: 80, loss =  775.3884\n",
            "epoch: 90, loss =  655.1877\n",
            "epoch: 100, loss =  567.7380\n"
          ]
        }
      ]
    },
    {
      "cell_type": "code",
      "source": [
        "# epoch = one forward and backward pass of ALL training samples\n",
        "# batch_size = number of training samples used in one forward/backward pass\n",
        "# number of iterations = number of passes, each pass (forward+backward) using [batch_size] number of sampes\n",
        "# e.g : 100 samples, batch_size=20 -> 100/20=5 iterations for 1 epoch"
      ],
      "metadata": {
        "id": "Q_3QT8Wl6Zi3"
      },
      "execution_count": 7,
      "outputs": []
    },
    {
      "cell_type": "code",
      "source": [
        "#Batch Training using DataLoader\n",
        "#dataloader = DataLoader(dataset = my_dataset, batchsize = 5, shuffle = True, num_workers = 2)\n",
        "#dataiter = iter(dataloader)\n",
        "#data = dataiter.next()\n",
        "#features, labels = data\n",
        "#print(features, labels)"
      ],
      "metadata": {
        "id": "niuPr13O9Ote"
      },
      "execution_count": 8,
      "outputs": []
    },
    {
      "cell_type": "code",
      "source": [
        "#Softmax example\n",
        "import torch\n",
        "import torch.nn as nn\n",
        "import numpy as np\n",
        "\n",
        "def softmax(x):\n",
        "  return np.exp(x)/np.sum(np.exp(x), axis = 0)\n",
        "x = np.array([2.0, 1.0, 0.1])\n",
        "outputs = softmax(x)\n",
        "print('softmax numpy:', outputs)\n",
        "\n",
        "x = torch.tensor([2.0, 1.0, 0.1])\n",
        "outputs = torch.softmax(x, dim=0) # along values along first axis\n",
        "print('softmax torch:', outputs)\n"
      ],
      "metadata": {
        "id": "7NfthnhlzMBB",
        "colab": {
          "base_uri": "https://localhost:8080/"
        },
        "outputId": "b6c79130-9c58-4e72-bf3d-e24954984298"
      },
      "execution_count": 9,
      "outputs": [
        {
          "output_type": "stream",
          "name": "stdout",
          "text": [
            "softmax numpy: [0.65900114 0.24243297 0.09856589]\n",
            "softmax torch: tensor([0.6590, 0.2424, 0.0986])\n"
          ]
        }
      ]
    },
    {
      "cell_type": "code",
      "source": [
        "#Cross-Entropy Example\n",
        "loss = nn.CrossEntropyLoss()\n",
        "Y = torch.tensor([2, 0, 1])\n",
        "\n",
        "# input is of size nBatch x nClasses = 3 x 3\n",
        "# Y_pred are logits (not softmax)\n",
        "Y_pred_good = torch.tensor(\n",
        "    [[0.1, 0.2, 3.9], # predict class 2\n",
        "    [1.2, 0.1, 0.3], # predict class 0\n",
        "    [0.3, 2.2, 0.2]]) # predict class 1\n",
        "\n",
        "Y_pred_bad = torch.tensor(\n",
        "    [[0.9, 0.2, 0.1],\n",
        "    [0.1, 0.3, 1.5],\n",
        "    [1.2, 0.2, 0.5]])\n",
        "\n",
        "l1 = loss(Y_pred_good, Y)\n",
        "l2 = loss(Y_pred_bad, Y)\n",
        "print(f'Batch Loss1:  {l1.item():.4f}')\n",
        "print(f'Batch Loss2: {l2.item():.4f}')\n",
        "\n",
        "# get predictions\n",
        "_, predictions1 = torch.max(Y_pred_good, 1)\n",
        "_, predictions2 = torch.max(Y_pred_bad, 1)\n",
        "print(f'Actual class: {Y}, Y_pred1: {predictions1}, Y_pred2: {predictions2}')\n"
      ],
      "metadata": {
        "colab": {
          "base_uri": "https://localhost:8080/"
        },
        "id": "9kvb6Rjfr74K",
        "outputId": "2e2353b3-99f3-43fe-adac-f5e171f2d945"
      },
      "execution_count": 10,
      "outputs": [
        {
          "output_type": "stream",
          "name": "stdout",
          "text": [
            "Batch Loss1:  0.2834\n",
            "Batch Loss2: 1.6418\n",
            "Actual class: tensor([2, 0, 1]), Y_pred1: tensor([2, 0, 1]), Y_pred2: tensor([0, 2, 0])\n"
          ]
        }
      ]
    },
    {
      "cell_type": "code",
      "source": [
        "#Most Common activation functions\n",
        "#1) Step function - 1/1+exp(-x), used for Binary classification problem  [0,1]\n",
        "#2) Sigmoid - 1/1+exp(-x), used for Binary classification problem  [0,1]\n",
        "#3) TanH - (2/1+exp(2x)) -1 Used in hidden layers. [-1,1]\n",
        "#4) ReLU- max(0,x) mostly use [0,infinite] non linear\n",
        "#5) Leaky ReLU - extension of ReLU solve vanishing gradient problem.\n",
        "#6) softmax- Used in multi-class classification, converts logits to probabilities."
      ],
      "metadata": {
        "id": "cSWrN41jvHhf"
      },
      "execution_count": 11,
      "outputs": []
    }
  ]
}